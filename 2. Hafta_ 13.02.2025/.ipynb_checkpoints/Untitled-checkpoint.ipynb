{
 "cells": [
  {
   "cell_type": "markdown",
   "id": "3b5de4eb-4fa4-4012-bcfa-29b0def0b7e9",
   "metadata": {},
   "source": [
    "# Yapay Zeka İle kodlama Eğitimi AkademiQ \n",
    "#### Yahya Efe Kuruçay https://efekurucay.com\n",
    "##### 2. Gün / 13.02.2025\n",
    "##### Ödev Tarihi : 15.02.2025 - 20.02.2025"
   ]
  },
  {
   "cell_type": "markdown",
   "id": "5499ea6b-4ad9-4d77-9791-c30763662609",
   "metadata": {},
   "source": [
    "## Ödev 1: Değişkenler\n",
    "### 1.1\n",
    "#### Aşağıdaki değişkenleri oluşturun ve ekrana yazdırın:\n",
    "\n",
    "isim: Adınız (string)\n",
    "\n",
    "yas: Yaşınız (integer)\n",
    "\n",
    "boy: Boyunuz (float)\n",
    "\n",
    "ogrenci_mi: Öğrenci olup olmadığınız (boolean)."
   ]
  },
  {
   "cell_type": "code",
   "execution_count": 13,
   "id": "4dafd3cd-1fcd-4079-b034-294a0e859fca",
   "metadata": {},
   "outputs": [
    {
     "name": "stdout",
     "output_type": "stream",
     "text": [
      "efe\n",
      "21\n",
      "172.5\n",
      "True\n"
     ]
    }
   ],
   "source": [
    "isim = \"efe\"\n",
    "yas = 21\n",
    "\n",
    "boy = 172.5\n",
    "\n",
    "ogrenci_mi = True\n",
    "\n",
    "print(isim)\n",
    "print(yas)\n",
    "print(boy)\n",
    "print(ogrenci_mi)"
   ]
  },
  {
   "cell_type": "markdown",
   "id": "7903fa5c-4f22-4ede-ae55-c2553f9d9455",
   "metadata": {},
   "source": [
    "### 1.2\n",
    "#### Kullanıcıdan dogum_yili bilgisini alıp, 2025 - dogum_yili formülüyle yaşını hesaplayıp ekrana yazdırın.\n"
   ]
  },
  {
   "cell_type": "code",
   "execution_count": 36,
   "id": "2e61133d-2dfe-43e7-a879-af8fc7087994",
   "metadata": {},
   "outputs": [
    {
     "name": "stdin",
     "output_type": "stream",
     "text": [
      "Doğum yılınızı giriniz:  2003\n"
     ]
    },
    {
     "name": "stdout",
     "output_type": "stream",
     "text": [
      "Yaşınız:  22\n"
     ]
    }
   ],
   "source": [
    "dogum_yili = input(\"Doğum yılınızı giriniz: \")\n",
    "\n",
    "yas = 2025 - int(dogum_yili)\n",
    "\n",
    "print(\"Yaşınız: \", yas)"
   ]
  },
  {
   "cell_type": "markdown",
   "id": "048c6b55-07f3-4755-aa71-d2697f7c8de2",
   "metadata": {},
   "source": [
    "## Ödev 2: Aritmetik Operatörleri\n",
    "### 2.1 \n",
    "#### Kullanıcıdan iki sayı alın. Bu sayılar üzerinde toplama (+), çıkarma (-), çarpma (*), bölme (/), tam bölme (//), mod alma (%), ve üs alma (**) işlemlerini yapıp sonuçları ekrana yazdırın."
   ]
  },
  {
   "cell_type": "code",
   "execution_count": 77,
   "id": "520f682e-eeb9-4011-9234-bb6fb70c2233",
   "metadata": {},
   "outputs": [
    {
     "name": "stdin",
     "output_type": "stream",
     "text": [
      "Birinci sayıyı giriniz:  2\n",
      "İkinci sayıyı giriniz:  5\n"
     ]
    },
    {
     "name": "stdout",
     "output_type": "stream",
     "text": [
      "2  +  5 =  7\n",
      "2  -  5 =  -3\n",
      "2  *  5 =  10\n",
      "2  /  5 =  0.4\n",
      "2  //  5 =  0\n",
      "2  %  5 =  2\n",
      "2  **  5 =  32\n"
     ]
    }
   ],
   "source": [
    "sayi1 = int(input(\"Birinci sayıyı giriniz: \"))\n",
    "sayi2 = int(input(\"İkinci sayıyı giriniz: \"))\n",
    "\n",
    "print(sayi1,\" + \", sayi2, \"= \", sayi1+sayi2)\n",
    "print(sayi1,\" - \", sayi2, \"= \", sayi1-sayi2)\n",
    "print(sayi1,\" * \", sayi2, \"= \", sayi1*sayi2)\n",
    "print(sayi1,\" / \", sayi2, \"= \", sayi1/sayi2)\n",
    "print(sayi1,\" // \", sayi2, \"= \", sayi1//sayi2)\n",
    "print(sayi1,\" % \", sayi2, \"= \", sayi1%sayi2)\n",
    "print(sayi1,\" ** \", sayi2, \"= \", sayi1**sayi2)\n",
    "\n"
   ]
  },
  {
   "cell_type": "markdown",
   "id": "71bdd99a-d18c-4d23-b160-f8014b53cf60",
   "metadata": {},
   "source": [
    "### 2.2 \n",
    "#### Bir dairenin alanını hesaplayın. Kullanıcıdan yarıçapı alın ve formülü π * r² kullanarak sonucu yazdırın (π = 3.14)."
   ]
  },
  {
   "cell_type": "code",
   "execution_count": 38,
   "id": "938d4c04-6ab9-4208-8d35-8688e66df04a",
   "metadata": {},
   "outputs": [
    {
     "name": "stdin",
     "output_type": "stream",
     "text": [
      "Yarıçap:  4\n"
     ]
    },
    {
     "name": "stdout",
     "output_type": "stream",
     "text": [
      "Dairenin alanı:  50.24\n"
     ]
    }
   ],
   "source": [
    "r = float(input(\"Yarıçap: \")) #yarıçap\n",
    "print(\"Dairenin alanı: \", 3.14*(r**2))"
   ]
  },
  {
   "cell_type": "markdown",
   "id": "a0bc8497-15e2-49fc-be88-42a0738bf842",
   "metadata": {},
   "source": [
    "## Ödev 3: Atama Operatörleri\n",
    "### 3.1\n",
    "#### Başlangıç değeri 10 olan bir sayi değişkeni oluşturun. Sırasıyla aşağıdaki işlemleri atama operatörleriyle (+=, -=, *=, /=) uygulayın:"
   ]
  },
  {
   "cell_type": "code",
   "execution_count": 71,
   "id": "ab145207-0504-4464-9232-38662fb16223",
   "metadata": {},
   "outputs": [
    {
     "name": "stdout",
     "output_type": "stream",
     "text": [
      "6.0\n"
     ]
    }
   ],
   "source": [
    "sayi = 10  \n",
    "sayi += 5 \n",
    "sayi -= 3\n",
    "sayi *= 2\n",
    "sayi /= 4 \n",
    "print(sayi)\n"
   ]
  },
  {
   "cell_type": "markdown",
   "id": "a7548e2b-7863-4a89-9dd0-deb4ecae2be7",
   "metadata": {},
   "source": [
    "### 3.2\n",
    "#### metin = \"Python\" değişkeni oluşturun. += operatörüyle bu metnin sonuna \"  Programlama\" ekleyip yeni metni yazdırın."
   ]
  },
  {
   "cell_type": "code",
   "execution_count": 75,
   "id": "f9c424e6-589a-48e8-b250-8c8dc2d63711",
   "metadata": {},
   "outputs": [
    {
     "name": "stdout",
     "output_type": "stream",
     "text": [
      "Python Programlama\n"
     ]
    }
   ],
   "source": [
    "metin = \"Python\"\n",
    "metin += \" Programlama\"\n",
    "print(metin)"
   ]
  },
  {
   "cell_type": "markdown",
   "id": "765dd54c-2c53-4a0e-aead-4e59bd7c68f4",
   "metadata": {},
   "source": [
    "## 4. Mantıksal Operatörler\n",
    "### 4.1\n",
    "#### Aşağıdaki koşulları kontrol eden mantıksal ifadeler yazın ve sonuçlarını ekrana yazdırın:\n",
    "###### yas > 18 and yas < 65\n",
    "###### yas < 18 or yas > 65\n",
    "###### not (yas == 25)"
   ]
  },
  {
   "cell_type": "code",
   "execution_count": 102,
   "id": "579a64a3-f7ef-4f33-8ec7-da7f564e9000",
   "metadata": {},
   "outputs": [
    {
     "name": "stdout",
     "output_type": "stream",
     "text": [
      "yas:  22\n",
      "yas>18 and yas<65:  True\n",
      "yas<18 or yas >65:  False\n",
      "not(yas==25):  True\n"
     ]
    }
   ],
   "source": [
    "print(\"yas: \", yas)\n",
    "print(\"yas>18 and yas<65: \", yas>18 and yas<65)\n",
    "print(\"yas<18 or yas >65: \", yas<18 or yas >65)\n",
    "print(\"not(yas==25): \", not(yas==25))"
   ]
  },
  {
   "cell_type": "markdown",
   "id": "0f86dc2a-52f5-4bac-ba57-b9dc0832927a",
   "metadata": {},
   "source": [
    "### 4.2\n",
    "#### Kullanıcıdan bir sayı alın. Bu sayının çift olup olmadığını ve pozitif olup olmadığını kontrol eden bir koşul yazın. Eğer sayı çiftse ekrana True, değilse False yazdırın.\n"
   ]
  },
  {
   "cell_type": "code",
   "execution_count": 108,
   "id": "096c0824-546c-44e5-ad8a-ee8f6c5741b9",
   "metadata": {},
   "outputs": [
    {
     "name": "stdin",
     "output_type": "stream",
     "text": [
      "Bir sayı giriniz:  22\n"
     ]
    },
    {
     "name": "stdout",
     "output_type": "stream",
     "text": [
      "True\n"
     ]
    }
   ],
   "source": [
    "sayi = int(input(\"Bir sayı giriniz: \"))\n",
    "print( sayi%2 == 0 and sayi >0 ) "
   ]
  },
  {
   "cell_type": "markdown",
   "id": "fe095e90-afa8-49fa-be88-1f7513aad16b",
   "metadata": {},
   "source": [
    "### 4.3\n",
    "#### Kullanıcıdan bir yaş bilgisi alın. Yaş 18'den büyük ve ehliyet bilgisi True ise \"Araba kullanabilirsiniz\" değilse \"Araba kullanamazsınız\" yazdırın."
   ]
  },
  {
   "cell_type": "code",
   "execution_count": 114,
   "id": "674e2dbd-84af-4f14-9c01-75875e88e8fc",
   "metadata": {},
   "outputs": [
    {
     "name": "stdin",
     "output_type": "stream",
     "text": [
      "Yaşınızı giriniz:  23\n",
      "Ehliyetiniz var mı? (evet/hayır):  hayır\n"
     ]
    },
    {
     "name": "stdout",
     "output_type": "stream",
     "text": [
      "Araba kullanamazsınız\n"
     ]
    }
   ],
   "source": [
    "yas = int(input(\"Yaşınızı giriniz: \"))\n",
    "ehliyet = input(\"Ehliyetiniz var mı? (evet/hayır): \")\n",
    "\n",
    "if yas >18 and ehliyet == \"evet\" : print(\"Araba kullanabilirsiniz.\")\n",
    "else: print(\"Araba kullanamazsınız\")\n",
    "                                        "
   ]
  },
  {
   "cell_type": "markdown",
   "id": "a8c05014-e191-4d43-b66f-1def0d17a455",
   "metadata": {},
   "source": [
    "## Ödev 5: Üyelik Operatörleri\n",
    "### 5.1 \n",
    "#### meyveler = [\"elma\", \"armut\", \"çilek\", \"kiraz\"] listesi veriliyor. Kullanıcıdan bir meyve ismi alıp listede olup olmadığını in operatörüyle kontrol edin."
   ]
  },
  {
   "cell_type": "code",
   "execution_count": 120,
   "id": "948367b3-f199-46c1-b4cb-470afdbce2dd",
   "metadata": {},
   "outputs": [
    {
     "name": "stdin",
     "output_type": "stream",
     "text": [
      "Bir meyve ismi giriniz:  armut\n"
     ]
    },
    {
     "name": "stdout",
     "output_type": "stream",
     "text": [
      "bu meyve listede var\n"
     ]
    }
   ],
   "source": [
    "meyveler = [\"elma\" , \"armut\", \"çilek\", \"kiraz\"] \n",
    "meyve = input(\"Bir meyve ismi giriniz: \")\n",
    "\n",
    "if meyve in meyveler: print(\"bu meyve listede var\")\n",
    "else: print(\"bu meyve listede yok\")\n",
    "    \n"
   ]
  },
  {
   "cell_type": "markdown",
   "id": "0828dbd1-2121-4fd2-b049-42ef5a449129",
   "metadata": {},
   "source": [
    "### 5.2\n",
    "#### parola = \"PyThOn123\" değişkeni oluşturun. Kullanıcıdan bir karakter girmesini isteyin. Bu karakter parolada yoksa (not in) \"Parolada bu karakter yok\" yazdırın.\n",
    "\n"
   ]
  },
  {
   "cell_type": "code",
   "execution_count": 130,
   "id": "454793ce-042e-4329-a6ca-18bcb5d15648",
   "metadata": {},
   "outputs": [
    {
     "name": "stdin",
     "output_type": "stream",
     "text": [
      "Bir karakter giriniz:  P\n"
     ]
    },
    {
     "name": "stdout",
     "output_type": "stream",
     "text": [
      "Parola, ' P ' içeriyor.\n"
     ]
    }
   ],
   "source": [
    "parola = \"PyThOn123\" \n",
    "karakter = input(\"Bir karakter giriniz: \")\n",
    "if karakter not in parola: print(\"Parolada bu karakter yok\")\n",
    "else: print(\"Parola, '\",karakter, \"' içeriyor.\" )   \n",
    "    \n",
    "    "
   ]
  },
  {
   "cell_type": "code",
   "execution_count": null,
   "id": "b8d8bb8e-9edf-4035-ac1e-4e267b8cfd7c",
   "metadata": {},
   "outputs": [],
   "source": []
  },
  {
   "cell_type": "markdown",
   "id": "a699a0d9-257d-41db-b5f8-c3dffd32d116",
   "metadata": {},
   "source": [
    "## Ödev 6: Kimlik Operatörleri \n",
    "### 6.1\n",
    "#### Aşağıdaki kodları çalıştırın ve sonuçlarını yorumlayın:\n",
    "a = 256\n",
    "\n",
    "b = 256\n",
    "\n",
    "print(a is b)  #Sonuç ne olur? Neden?\n",
    "\n",
    "c = 257\n",
    "\n",
    "d = 257\n",
    "\n",
    "print(c is d)  # Sonuç ne olur? Neden?"
   ]
  },
  {
   "cell_type": "code",
   "execution_count": 137,
   "id": "bb3e30e6-6467-4a9e-ab36-d77d5fae9f45",
   "metadata": {},
   "outputs": [
    {
     "name": "stdout",
     "output_type": "stream",
     "text": [
      "True\n",
      "False\n"
     ]
    }
   ],
   "source": [
    "a = 256\n",
    "\n",
    "b = 256\n",
    "\n",
    "print(a is b) #Sonuç ne olur? Neden?\n",
    "\n",
    "c = 257\n",
    "\n",
    "d = 257\n",
    "\n",
    "print(c is d) # Sonuç ne olur? Neden?\n"
   ]
  },
  {
   "cell_type": "markdown",
   "id": "f0e7ddd7-d797-44bd-af71-ace04645ef22",
   "metadata": {},
   "source": [
    "##### 256 ile 257 nin farkının bellekle alakalı olduğu hissiyatı oluşuyor fakat tam sebebini düşünerek çıkartamadım. Ufak bir araştırma ile Python'un küçük tam sayılar için hafıza optimizasyonunun bir sonucu olduğunu gördüm. 256'ya kadar olan sayıları önbelleğe aldığı için bunlar tek bir nesne olarak saklanıyorlar. Bu yüzden a ile b aynı nesneyi işaret ediyor ve sonuç true çıkıyor. Fakat 257 bu aralığın dışında olduğu için, farklı nesneler olarak oluşuyorlar ve farklı nesneye işaret ediliyor. Dolayısıyla sonuç false çıkıyor."
   ]
  },
  {
   "cell_type": "markdown",
   "id": "24efa8fb-7000-4d47-b9ca-ab21f2957d7e",
   "metadata": {},
   "source": [
    "## Ödev 7: Stringler ve Metotları\n",
    "### 7.1 \n",
    "#### Kullanıcıdan bir metin girmesini isteyin. Bu metni:\n",
    "\n",
    "###### Tüm harfleri büyük yapın,\n",
    "###### Başındaki ve sonundaki boşlukları silin,\n",
    "###### \"a\" harflerini \"e\" ile değiştirin,\n",
    "###### Boşluklara göre split edip kelimeleri liste halinde yazdırın."
   ]
  },
  {
   "cell_type": "code",
   "execution_count": 144,
   "id": "5776f171-2e72-4f31-b010-d6363882f1cf",
   "metadata": {},
   "outputs": [
    {
     "name": "stdin",
     "output_type": "stream",
     "text": [
      "Bir metin giriniz:  bu cÜMLE bir DeNeME cümlesi      . \n"
     ]
    },
    {
     "name": "stdout",
     "output_type": "stream",
     "text": [
      "['BU', 'CÜMLE', 'BIR', 'DENEME', 'CÜMLESI', '.']\n"
     ]
    }
   ],
   "source": [
    "metin = input ( \"Bir metin giriniz: \")\n",
    "\n",
    "metin = metin.upper()\n",
    "\n",
    "metin = metin.strip()\n",
    "\n",
    "metin = metin.replace (\"a\",\"e\")\n",
    "\n",
    "kelimeler= metin.split()\n",
    "\n",
    "print (kelimeler)"
   ]
  },
  {
   "cell_type": "markdown",
   "id": "9e98ba58-8183-4561-b8af-0df7bd9455b3",
   "metadata": {},
   "source": [
    "### 7.2\n",
    "#### \"Python programlama dili\" metnini ters çevirip ekrana yazdırın. Ardından replace() metoduyla \"programlama\" yerine \"kodlama\" yazın."
   ]
  },
  {
   "cell_type": "code",
   "execution_count": 152,
   "id": "e1578870-df36-411b-9217-79636ad31ce1",
   "metadata": {},
   "outputs": [
    {
     "name": "stdout",
     "output_type": "stream",
     "text": [
      "ilid amalmargorp nohtyP\n",
      "Python kodlama dili\n"
     ]
    }
   ],
   "source": [
    "metin = \"Python programlama dili\"\n",
    "\n",
    "print (metin[::-1])\n",
    "\n",
    "metin = metin.replace(\"programlama\", \"kodlama\")\n",
    "\n",
    "print(metin)"
   ]
  },
  {
   "cell_type": "code",
   "execution_count": null,
   "id": "86f8f6ec-eb62-402d-8a83-e3601a1c160a",
   "metadata": {},
   "outputs": [],
   "source": []
  }
 ],
 "metadata": {
  "kernelspec": {
   "display_name": "Python [conda env:base] *",
   "language": "python",
   "name": "conda-base-py"
  },
  "language_info": {
   "codemirror_mode": {
    "name": "ipython",
    "version": 3
   },
   "file_extension": ".py",
   "mimetype": "text/x-python",
   "name": "python",
   "nbconvert_exporter": "python",
   "pygments_lexer": "ipython3",
   "version": "3.12.7"
  }
 },
 "nbformat": 4,
 "nbformat_minor": 5
}
