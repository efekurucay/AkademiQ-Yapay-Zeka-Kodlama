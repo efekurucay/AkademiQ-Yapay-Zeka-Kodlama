{
 "cells": [
  {
   "cell_type": "markdown",
   "id": "de5f461a",
   "metadata": {},
   "source": [
    "# Python 101: Temel Yapılar ve Algoritma Soruları"
   ]
  },
  {
   "cell_type": "markdown",
   "id": "0a3e4a13",
   "metadata": {},
   "source": [
    "\n",
    "## Bölüm 1: Temel Yapılar\n",
    "\n",
    "- **If-Else:** Koşullu işlemler için kullanılır.\n",
    "- **Match-Case:** Çoklu koşulları sade şekilde kontrol eder (Python 3.10+).\n",
    "- **For:** Belirli tekrar sayısına sahiptir.\n",
    "- **While:** Koşul doğru olduğu sürece tekrar eder.\n"
   ]
  },
  {
   "cell_type": "markdown",
   "id": "f84bb51d",
   "metadata": {},
   "source": [
    "\n",
    "## Bölüm 2: While Döngüsü Araştırması\n",
    "\n",
    "- While döngüsü, koşul doğru olduğu sürece işlemleri tekrarlar.\n",
    "- For döngüsünden farkı: Tekrar sayısı bilinmeyen durumlarda kullanılır.\n",
    "\n",
    "**Örnek Kullanım:**\n",
    "```python\n",
    "sayac = 1\n",
    "while sayac <= 5:\n",
    "    print(sayac)\n",
    "    sayac += 1\n",
    "```\n"
   ]
  },
  {
   "cell_type": "markdown",
   "id": "f9bafce4",
   "metadata": {},
   "source": [
    "### Soru 1: Sayıların Toplamı"
   ]
  },
  {
   "cell_type": "code",
   "execution_count": null,
   "id": "ffa00ed3",
   "metadata": {},
   "outputs": [],
   "source": [
    "\n",
    "a = int(input(\"Birinci sayı: \"))\n",
    "b = int(input(\"İkinci sayı: \"))\n",
    "print(\"Toplam:\", a + b)\n"
   ]
  },
  {
   "cell_type": "markdown",
   "id": "52cdf8cd",
   "metadata": {},
   "source": [
    "### Soru 2: Pozitif veya Negatif"
   ]
  },
  {
   "cell_type": "code",
   "execution_count": null,
   "id": "cc2288ab",
   "metadata": {},
   "outputs": [],
   "source": [
    "\n",
    "sayi = int(input(\"Bir sayı girin: \"))\n",
    "if sayi > 0:\n",
    "    print(\"Pozitif\")\n",
    "elif sayi < 0:\n",
    "    print(\"Negatif\")\n",
    "else:\n",
    "    print(\"Sıfır\")\n"
   ]
  },
  {
   "cell_type": "markdown",
   "id": "43422316",
   "metadata": {},
   "source": [
    "### Soru 10: Asal Sayı Kontrolü"
   ]
  },
  {
   "cell_type": "code",
   "execution_count": null,
   "id": "84de24b8",
   "metadata": {},
   "outputs": [],
   "source": [
    "\n",
    "sayi = int(input(\"Sayı girin: \"))\n",
    "asal = sayi > 1\n",
    "for i in range(2, int(sayi ** 0.5) + 1):\n",
    "    if sayi % i == 0:\n",
    "        asal = False\n",
    "        break\n",
    "print(\"Asal\" if asal else \"Asal değil\")\n"
   ]
  },
  {
   "cell_type": "markdown",
   "id": "6fac8163",
   "metadata": {},
   "source": [
    "### Soru 11: Faktöriyel Hesaplama"
   ]
  },
  {
   "cell_type": "code",
   "execution_count": null,
   "id": "f30110c3",
   "metadata": {},
   "outputs": [],
   "source": [
    "\n",
    "n = int(input(\"Bir sayı girin: \"))\n",
    "faktoriyel = 1\n",
    "while n > 1:\n",
    "    faktoriyel *= n\n",
    "    n -= 1\n",
    "print(\"Faktöriyel:\", faktoriyel)\n"
   ]
  },
  {
   "cell_type": "markdown",
   "id": "f489b900",
   "metadata": {},
   "source": [
    "### Soru 31: Not Harfini Belirleme"
   ]
  },
  {
   "cell_type": "code",
   "execution_count": null,
   "id": "b34f9bd7",
   "metadata": {},
   "outputs": [],
   "source": [
    "\n",
    "notu = int(input(\"Notunuzu girin: \"))\n",
    "if notu >= 90:\n",
    "    print(\"A\")\n",
    "elif notu >= 80:\n",
    "    print(\"B\")\n",
    "elif notu >= 70:\n",
    "    print(\"C\")\n",
    "elif notu >= 60:\n",
    "    print(\"D\")\n",
    "else:\n",
    "    print(\"F\")\n"
   ]
  },
  {
   "cell_type": "markdown",
   "id": "6ad86d82",
   "metadata": {},
   "source": [
    "### Soru 33: Artık Yıl Kontrolü"
   ]
  },
  {
   "cell_type": "code",
   "execution_count": null,
   "id": "bebe9ceb",
   "metadata": {},
   "outputs": [],
   "source": [
    "\n",
    "yil = int(input(\"Yıl giriniz: \"))\n",
    "if (yil % 4 == 0 and yil % 100 != 0) or yil % 400 == 0:\n",
    "    print(\"Artık yıl\")\n",
    "else:\n",
    "    print(\"Artık yıl değil\")\n"
   ]
  },
  {
   "cell_type": "markdown",
   "id": "84ec0f5e",
   "metadata": {},
   "source": [
    "### Soru 36: Yaş ve Bilet Fiyatı"
   ]
  },
  {
   "cell_type": "code",
   "execution_count": null,
   "id": "145ac015",
   "metadata": {},
   "outputs": [],
   "source": [
    "\n",
    "yas = int(input(\"Yaşınız: \"))\n",
    "if yas <= 5:\n",
    "    fiyat = \"Ücretsiz\"\n",
    "elif yas <= 18:\n",
    "    fiyat = \"10 TL\"\n",
    "elif yas <= 64:\n",
    "    fiyat = \"20 TL\"\n",
    "else:\n",
    "    fiyat = \"15 TL\"\n",
    "print(\"Bilet fiyatı:\", fiyat)\n"
   ]
  },
  {
   "cell_type": "markdown",
   "id": "c1a56447",
   "metadata": {},
   "source": [
    "### Soru 40: Üyelik Durumu ve İndirim"
   ]
  },
  {
   "cell_type": "code",
   "execution_count": null,
   "id": "06a4bd3a",
   "metadata": {},
   "outputs": [],
   "source": [
    "\n",
    "tutar = float(input(\"Alışveriş tutarı: \"))\n",
    "uye = input(\"Üyelik (üye/non-üye): \")\n",
    "if uye == \"üye\":\n",
    "    tutar *= 0.90\n",
    "else:\n",
    "    tutar *= 0.95\n",
    "print(\"Ödenecek tutar:\", tutar)\n"
   ]
  }
 ],
 "metadata": {},
 "nbformat": 4,
 "nbformat_minor": 5
}
