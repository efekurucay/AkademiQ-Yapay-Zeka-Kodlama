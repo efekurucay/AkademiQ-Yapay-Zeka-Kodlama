{
 "cells": [
  {
   "cell_type": "code",
   "execution_count": null,
   "id": "021f169d",
   "metadata": {},
   "outputs": [],
   "source": [
    "# Soru 1\n",
    "a, b = int(input()), int(input())\n",
    "print(a + b)"
   ]
  },
  {
   "cell_type": "code",
   "execution_count": null,
   "id": "f018bebf",
   "metadata": {},
   "outputs": [],
   "source": [
    "# Soru 2\n",
    "sayi = int(input())\n",
    "print('Pozitif' if sayi > 0 else 'Negatif' if sayi < 0 else 'Sıfır')"
   ]
  },
  {
   "cell_type": "code",
   "execution_count": null,
   "id": "eedd4450",
   "metadata": {},
   "outputs": [],
   "source": [
    "# Soru 3\n",
    "a, b, c = int(input()), int(input()), int(input())\n",
    "print(max(a, b, c))"
   ]
  },
  {
   "cell_type": "code",
   "execution_count": null,
   "id": "c7e7f619",
   "metadata": {},
   "outputs": [],
   "source": [
    "# Soru 4\n",
    "sayi = int(input())\n",
    "print('Çift' if sayi % 2 == 0 else 'Tek')"
   ]
  },
  {
   "cell_type": "code",
   "execution_count": null,
   "id": "c1249dc3",
   "metadata": {},
   "outputs": [],
   "source": [
    "# Soru 5\n",
    "gun = int(input())\n",
    "match gun:\n",
    "    case 1: print('Pazartesi')\n",
    "    case 2: print('Salı')\n",
    "    case 3: print('Çarşamba')\n",
    "    case 4: print('Perşembe')\n",
    "    case 5: print('Cuma')\n",
    "    case 6: print('Cumartesi')\n",
    "    case 7: print('Pazar')\n",
    "    case _: print('Geçersiz gün')"
   ]
  },
  {
   "cell_type": "code",
   "execution_count": null,
   "id": "c16f6d63",
   "metadata": {},
   "outputs": [],
   "source": [
    "\n",
    "# Kalan Soruların Çözümü\n",
    "# (Kullanıcı tarafından sağlanan kodlar buraya doğrudan eklenecek)\n"
   ]
  }
 ],
 "metadata": {},
 "nbformat": 4,
 "nbformat_minor": 5
}
