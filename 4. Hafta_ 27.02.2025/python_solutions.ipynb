{
 "cells": [
  {
   "cell_type": "markdown",
   "metadata": {},
   "source": [
    "# Python 101: Temel Yapılar ve Algoritma Soruları \n",
    "Dökümanı"
   ]
  },
  {
   "cell_type": "markdown",
   "metadata": {},
   "source": [
    "## While Döngüsü\n",
    "\n",
    "### While Döngüsü Nedir ve For Döngüsünden Farkı Nedir?\n",
    "\n",
    "**While döngüsü**, belirli bir koşul doğru olduğu sürece işlemleri tekrar eden bir döngüdür.\n",
    "\n",
    "#### Genel Yapısı\n",
    "\n",
    "\n",
    "```python\n",
    "while koşul:\n",
    "    # işlemler\n",
    "```\n",
    "**For döngüsü** ise genellikle belirli bir dizinin elemanları üzerinde gezinmek için kullanılır.\n",
    "\n",
    "#### Genel Yapısı\n",
    "\n",
    "```python\n",
    "for eleman in dizi:\n",
    "    # işlemler\n",
    "```\n",
    "\n",
    "#### Farkları\n",
    "\n",
    "| Özellik              | While Döngüsü                        | For Döngüsü                          |\n",
    "|----------------------|--------------------------------------|--------------------------------------|\n",
    "| Kullanım             | Koşula bağlı olarak çalışır          | Genellikle dizilerle kullanılır      |\n",
    "| Tekrar Sayısı        | Başlangıçta belirsiz olabilir        | Başlangıçta genellikle bellidir      |\n",
    "| Sonsuz Döngü Riski   | Dikkat edilmezse yüksektir           | Düşüktür                             |\n",
    "\n",
    "---\n",
    "\n",
    "### Hangi Durumlarda While Döngüsü Daha Kullanışlıdır?\n",
    "\n",
    "**While döngüsü**, döngünün tekrar sayısının önceden bilinmediği durumlarda kullanışlıdır. \n",
    "\n",
    "#### Örnek\n",
    "\n",
    "Kullanıcı doğru şifre girene kadar döngünün devam etmesi:\n",
    "\n",
    "```python\n",
    "dogru_sifre = \"abcd123\"\n",
    "sifre = input(\"Şifre giriniz: \")\n",
    "\n",
    "while sifre != dogru_sifre:\n",
    "    print(\"Yanlış şifre, tekrar deneyiniz.\")\n",
    "    sifre = input(\"Şifre giriniz: \")\n",
    "\n",
    "print(\"Başarıyla giriş yapıldı!\")\n",
    "```\n",
    "\n",
    "Burada kullanıcı doğru şifreyi girene kadar döngünün kaç kez döneceği belli değildir.\n",
    "\n",
    "---\n",
    "\n",
    "### While Döngüsünün Çalışma Mekanizması (Akış Diyagramı)\n",
    "\n",
    "```\n",
    "Başla\n",
    "  |\n",
    "  v\n",
    "Koşul Kontrolü ---- Hayır ---> Döngüyü Bitir\n",
    "  | Evet\n",
    "  v\n",
    "İşlem Bloğu\n",
    "  |\n",
    "  +-------+\n",
    "          |\n",
    "          v\n",
    "Koşula geri dön\n",
    "```\n",
    "\n",
    "#### Açıklama:\n",
    "\n",
    "1. Döngü başlar ve koşul kontrol edilir.\n",
    "2. Koşul doğruysa döngünün içindeki işlemler gerçekleştirilir.\n",
    "3. İşlem bittikten sonra koşul tekrar kontrol edilir.\n",
    "4. Koşul yanlış olana kadar döngü devam eder.\n",
    "5. Koşul yanlış olduğunda döngü sona erer ve program devam eder.\n"
   ]
  },
  {
   "cell_type": "markdown",
   "metadata": {},
   "source": []
  },
  {
   "cell_type": "markdown",
   "metadata": {},
   "source": [
    "## Bölüm 3: Algoritma Soruları \n"
   ]
  },
  {
   "cell_type": "markdown",
   "metadata": {},
   "source": [
    "#### Soru 1: İki sayının toplamını yazdırır.\n"
   ]
  },
  {
   "cell_type": "code",
   "execution_count": null,
   "metadata": {},
   "outputs": [],
   "source": [
    "a, b = int(input()), int(input())\n",
    "print(a + b)"
   ]
  },
  {
   "cell_type": "markdown",
   "metadata": {},
   "source": [
    "\n",
    "#### Soru 2: Sayının pozitif, negatif veya sıfır olduğunu kontrol eder.\n"
   ]
  },
  {
   "cell_type": "code",
   "execution_count": null,
   "metadata": {},
   "outputs": [],
   "source": [
    "sayi = int(input())\n",
    "if sayi > 0:\n",
    "    print(\"Pozitif\")\n",
    "elif sayi < 0:\n",
    "    print(\"Negatif\")\n",
    "else:\n",
    "    print(\"Sıfır\")"
   ]
  },
  {
   "cell_type": "markdown",
   "metadata": {},
   "source": [
    "\n",
    "#### Soru 3: Üç sayı arasından en büyüğünü bulur.\n"
   ]
  },
  {
   "cell_type": "code",
   "execution_count": null,
   "metadata": {},
   "outputs": [],
   "source": [
    "a, b, c = int(input()), int(input()), int(input())\n",
    "print(max(a, b, c))"
   ]
  },
  {
   "cell_type": "markdown",
   "metadata": {},
   "source": [
    "#### Soru 4: Sayının tek veya çift olduğunu kontrol eder.\n"
   ]
  },
  {
   "cell_type": "code",
   "execution_count": null,
   "metadata": {},
   "outputs": [],
   "source": [
    "sayi = int(input())\n",
    "print(\"Çift\" if sayi % 2 == 0 else \"Tek\")"
   ]
  },
  {
   "cell_type": "markdown",
   "metadata": {},
   "source": [
    "#### Soru 5: Haftanın gününü sayıya göre match-case ile belirler.\n"
   ]
  },
  {
   "cell_type": "code",
   "execution_count": null,
   "metadata": {},
   "outputs": [],
   "source": [
    "gun = int(input())\n",
    "match gun:\n",
    "    case 1: print(\"Pazartesi\")\n",
    "    case 2: print(\"Salı\")\n",
    "    case 3: print(\"Çarşamba\")\n",
    "    case 4: print(\"Perşembe\")\n",
    "    case 5: print(\"Cuma\")\n",
    "    case 6: print(\"Cumartesi\")\n",
    "    case 7: print(\"Pazar\")\n",
    "    case _: print(\"Geçersiz gün\")"
   ]
  },
  {
   "cell_type": "markdown",
   "metadata": {},
   "source": [
    "#### Soru 6: Dört işlem yapan basit hesap makinesi.\n"
   ]
  },
  {
   "cell_type": "code",
   "execution_count": null,
   "metadata": {},
   "outputs": [],
   "source": [
    "\n",
    "\n",
    "a, b, islem = int(input()), int(input()), input()\n",
    "match islem:\n",
    "    case \"+\": print(a + b)\n",
    "    case \"-\": print(a - b)\n",
    "    case \"*\": print(a * b)\n",
    "    case \"/\": print(a / b)"
   ]
  },
  {
   "cell_type": "markdown",
   "metadata": {},
   "source": [
    "#### Soru 7: 1'den N'e kadar sayıların toplamını yazdırır."
   ]
  },
  {
   "cell_type": "code",
   "execution_count": null,
   "metadata": {},
   "outputs": [],
   "source": [
    "\n",
    "N = int(input())\n",
    "print(sum(range(1, N + 1)))"
   ]
  },
  {
   "cell_type": "markdown",
   "metadata": {},
   "source": [
    "#### Soru 8: Sayının çarpım tablosunu yazdırır.\n"
   ]
  },
  {
   "cell_type": "code",
   "execution_count": null,
   "metadata": {},
   "outputs": [],
   "source": [
    "\n",
    "sayi = int(input())\n",
    "for i in range(1, 11): print(sayi, \"x\", i, \"=\", sayi * i)"
   ]
  },
  {
   "cell_type": "markdown",
   "metadata": {},
   "source": [
    "#### Soru 9: 5 sayının ortalamasını hesaplar.\n"
   ]
  },
  {
   "cell_type": "code",
   "execution_count": null,
   "metadata": {},
   "outputs": [],
   "source": [
    "\n",
    "\n",
    "toplam = sum(int(input()) for _ in range(5))\n",
    "print(toplam / 5)"
   ]
  },
  {
   "cell_type": "markdown",
   "metadata": {},
   "source": [
    "#### Soru 10: Sayının asal olup olmadığını kontrol eder.\n"
   ]
  },
  {
   "cell_type": "code",
   "execution_count": null,
   "metadata": {},
   "outputs": [],
   "source": [
    "sayi = int(input())\n",
    "print(\"Asal\" if all(sayi % i != 0 for i in range(2, int(sayi**0.5)+1)) and sayi > 1 else \"Asal değil\")"
   ]
  },
  {
   "cell_type": "markdown",
   "metadata": {},
   "source": [
    "#### Soru 11: Sayının faktöriyelini hesaplar.\n"
   ]
  },
  {
   "cell_type": "code",
   "execution_count": null,
   "metadata": {},
   "outputs": [],
   "source": [
    "sayi, faktoriyel = int(input()), 1\n",
    "while sayi > 1:\n",
    "    faktoriyel *= sayi\n",
    "    sayi -= 1\n",
    "print(faktoriyel)"
   ]
  },
  {
   "cell_type": "markdown",
   "metadata": {},
   "source": [
    "#### Soru 12: 1-100 arası sayı tahmin oyunu (rastgele sayı).\n"
   ]
  },
  {
   "cell_type": "code",
   "execution_count": null,
   "metadata": {},
   "outputs": [],
   "source": [
    "\n",
    "\n",
    "import random\n",
    "hedef, tahmin = random.randint(1,100), 0\n",
    "while tahmin != hedef:\n",
    "    tahmin = int(input())\n",
    "    print(\"Büyük\" if tahmin < hedef else \"Küçük\" if tahmin > hedef else \"Doğru\")"
   ]
  },
  {
   "cell_type": "markdown",
   "metadata": {},
   "source": [
    "#### Soru 13: İlk N Fibonacci sayısını yazdırır.\n"
   ]
  },
  {
   "cell_type": "code",
   "execution_count": null,
   "metadata": {},
   "outputs": [],
   "source": [
    "\n",
    "a, b, N = 0, 1, int(input())\n",
    "for _ in range(N):\n",
    "    print(a)\n",
    "    a, b = b, a + b"
   ]
  },
  {
   "cell_type": "markdown",
   "metadata": {},
   "source": [
    "#### Soru 14: Bir sayının tersini yazdırır.\n"
   ]
  },
  {
   "cell_type": "code",
   "execution_count": null,
   "metadata": {},
   "outputs": [],
   "source": [
    "\n",
    "sayi, ters = int(input()), 0\n",
    "while sayi:\n",
    "    ters = ters * 10 + sayi % 10\n",
    "    sayi //= 10\n",
    "print(ters)"
   ]
  },
  {
   "cell_type": "markdown",
   "metadata": {},
   "source": [
    "#### Soru 15: Armstrong sayı kontrolü yapar.\n"
   ]
  },
  {
   "cell_type": "code",
   "execution_count": null,
   "metadata": {},
   "outputs": [],
   "source": [
    "\n",
    "\n",
    "sayi, toplam, gecici = int(input()), 0, int(input())\n",
    "orijinal = sayi\n",
    "while sayi:\n",
    "    toplam += (sayi % 10)**len(str(gecici))\n",
    "    sayi //= 10\n",
    "print(\"Armstrong\" if toplam == orijinal else \"Değil\")"
   ]
  },
  {
   "cell_type": "markdown",
   "metadata": {},
   "source": [
    "#### Soru 16: 1-100 arası çift sayıların toplamını hesaplar.\n"
   ]
  },
  {
   "cell_type": "code",
   "execution_count": null,
   "metadata": {},
   "outputs": [],
   "source": [
    "\n",
    "print(sum(i for i in range(2, 101, 2)))\n",
    "\n",
    "# Soru 17: 1-10 arası tek sayıların çarpımını hesaplar.\n",
    "carpim = 1\n",
    "for i in range(1, 11, 2): carpim *= i\n",
    "print(carpim)"
   ]
  },
  {
   "cell_type": "markdown",
   "metadata": {},
   "source": [
    "#### Soru 18: 1-10 arası sayıların karesini yazdırır.\n"
   ]
  },
  {
   "cell_type": "code",
   "execution_count": null,
   "metadata": {},
   "outputs": [],
   "source": [
    "for i in range(1, 11): print(i, \"karesi:\", i**2)\n"
   ]
  },
  {
   "cell_type": "markdown",
   "metadata": {},
   "source": [
    "#### Soru 19: Şifre kontrolü yapar.\n"
   ]
  },
  {
   "cell_type": "code",
   "execution_count": null,
   "metadata": {},
   "outputs": [],
   "source": [
    "print(\"Giriş başarılı\" if input() == \"python123\" else \"Başarısız\")\n"
   ]
  },
  {
   "cell_type": "markdown",
   "metadata": {},
   "source": [
    "#### Soru 20: Reşitlik kontrolü yapar.\n"
   ]
  },
  {
   "cell_type": "code",
   "execution_count": null,
   "metadata": {},
   "outputs": [],
   "source": [
    "print(\"Reşit\" if int(input()) >= 18 else \"Reşit değil\")\n"
   ]
  },
  {
   "cell_type": "markdown",
   "metadata": {},
   "source": [
    "#### Soru 21: Not ortalamasını hesaplayıp geçip geçmediğini kontrol eder.\n"
   ]
  },
  {
   "cell_type": "code",
   "execution_count": null,
   "metadata": {},
   "outputs": [],
   "source": [
    "\n",
    "notlar = [int(input()) for _ in range(3)]\n",
    "print(\"Geçti\" if sum(notlar)/3 > 50 else \"Kaldı\")"
   ]
  },
  {
   "cell_type": "markdown",
   "metadata": {},
   "source": [
    "#### Soru 22: VKİ'ye göre fazla kilolu olup olmadığını kontrol eder.\n"
   ]
  },
  {
   "cell_type": "code",
   "execution_count": null,
   "metadata": {},
   "outputs": [],
   "source": [
    "\n",
    "\n",
    "boy, kilo = float(input()), float(input())\n",
    "vki = kilo / boy ** 2\n",
    "print(\"Fazla kilolu\" if vki > 25 else \"Normal\")"
   ]
  },
  {
   "cell_type": "markdown",
   "metadata": {},
   "source": [
    "#### Soru 23: Dört işlem menüsü sunar.\n"
   ]
  },
  {
   "cell_type": "code",
   "execution_count": null,
   "metadata": {},
   "outputs": [],
   "source": [
    "a, b = int(input()), int(input())\n",
    "islem = input(\"İşlem seçiniz (+, -, *, /): \")\n",
    "match islem:\n",
    "    case \"+\": print(a + b)\n",
    "    case \"-\": print(a - b)\n",
    "    case \"*\": print(a * b)\n",
    "    case \"/\": print(a / b)"
   ]
  },
  {
   "cell_type": "markdown",
   "metadata": {},
   "source": [
    "\n",
    "#### Soru 24: Dört sayıdan en küçüğünü bulur.\n"
   ]
  },
  {
   "cell_type": "code",
   "execution_count": null,
   "metadata": {},
   "outputs": [],
   "source": [
    "sayilar = [int(input()) for _ in range(4)]\n",
    "print(min(sayilar))"
   ]
  },
  {
   "cell_type": "markdown",
   "metadata": {},
   "source": [
    "#### Soru 25: Üç sayıyı küçükten büyüğe sıralar.\n"
   ]
  },
  {
   "cell_type": "code",
   "execution_count": null,
   "metadata": {},
   "outputs": [],
   "source": [
    "sayilar = sorted(int(input()) for _ in range(3))\n",
    "print(sayilar)"
   ]
  },
  {
   "cell_type": "markdown",
   "metadata": {},
   "source": [
    "#### Soru 26: While döngüsü ile 1-N arası toplamı bulur.\n"
   ]
  },
  {
   "cell_type": "code",
   "execution_count": null,
   "metadata": {},
   "outputs": [],
   "source": [
    "N, toplam = int(input()), 0\n",
    "while N:\n",
    "    toplam += N\n",
    "    N -= 1\n",
    "print(toplam)"
   ]
  },
  {
   "cell_type": "markdown",
   "metadata": {},
   "source": [
    "\n",
    "#### Soru 27: 1-5 arası sayıların çarpımını bulur.\n"
   ]
  },
  {
   "cell_type": "code",
   "execution_count": null,
   "metadata": {},
   "outputs": [],
   "source": [
    "carpim = 1\n",
    "for i in range(1, 6): carpim *= i\n",
    "print(carpim)"
   ]
  },
  {
   "cell_type": "markdown",
   "metadata": {},
   "source": [
    "\n",
    "\n",
    "#### Soru 28: 1-10 arası sayıların karelerinin toplamını bulur."
   ]
  },
  {
   "cell_type": "code",
   "execution_count": null,
   "metadata": {},
   "outputs": [],
   "source": [
    "print(sum(i**2 for i in range(1, 11)))\n"
   ]
  },
  {
   "cell_type": "markdown",
   "metadata": {},
   "source": [
    "\n",
    "\n",
    "#### Soru 29: 1-N arası sayıların küplerinin toplamını bulur.\n"
   ]
  },
  {
   "cell_type": "code",
   "execution_count": null,
   "metadata": {},
   "outputs": [],
   "source": [
    "N = int(input())\n",
    "print(sum(i**3 for i in range(1, N+1)))"
   ]
  },
  {
   "cell_type": "markdown",
   "metadata": {},
   "source": [
    "#### Soru 30: 1-100 arasında 3 ve 5’e bölünen sayıları sayar.\n"
   ]
  },
  {
   "cell_type": "code",
   "execution_count": null,
   "metadata": {},
   "outputs": [],
   "source": [
    "print(len([i for i in range(1, 101) if i % 15 == 0]))"
   ]
  },
  {
   "cell_type": "markdown",
   "metadata": {},
   "source": [
    "#### Soru 31: Sayıdan harf notunu belirler.\n"
   ]
  },
  {
   "cell_type": "code",
   "execution_count": null,
   "metadata": {},
   "outputs": [],
   "source": [
    "notu = int(input())\n",
    "if notu >= 90: print(\"A\")\n",
    "elif notu >= 80: print(\"B\")\n",
    "elif notu >= 70: print(\"C\")\n",
    "elif notu >= 60: print(\"D\")\n",
    "else: print(\"F\")"
   ]
  },
  {
   "cell_type": "markdown",
   "metadata": {},
   "source": [
    "#### Soru 32: Üç sayının eşitliğini kontrol eder.\n"
   ]
  },
  {
   "cell_type": "code",
   "execution_count": null,
   "metadata": {},
   "outputs": [],
   "source": [
    "a, b, c = int(input()), int(input()), int(input())\n",
    "if a == b == c: print(\"Tüm sayılar eşit\")\n",
    "elif a == b or b == c or a == c: print(\"İki sayı eşit\")\n",
    "else: print(\"Hiçbiri eşit değil\")"
   ]
  },
  {
   "cell_type": "markdown",
   "metadata": {},
   "source": [
    "\n",
    "#### Soru 33: Artık yıl kontrolü yapar.\n"
   ]
  },
  {
   "cell_type": "code",
   "execution_count": null,
   "metadata": {},
   "outputs": [],
   "source": [
    "yil = int(input())\n",
    "print(\"Artık yıl\" if (yil % 4 == 0 and yil % 100 != 0) or yil % 400 == 0 else \"Değil\")"
   ]
  },
  {
   "cell_type": "markdown",
   "metadata": {},
   "source": [
    "#### Soru 34: BMI kategorisi belirler.\n"
   ]
  },
  {
   "cell_type": "code",
   "execution_count": null,
   "metadata": {},
   "outputs": [],
   "source": [
    "boy, kilo = float(input()), float(input())\n",
    "bmi = kilo / boy ** 2\n",
    "if bmi < 18.5: print(\"Zayıf\")\n",
    "elif bmi < 25: print(\"Normal\")\n",
    "elif bmi < 30: print(\"Fazla Kilolu\")\n",
    "else: print(\"Obez\")"
   ]
  },
  {
   "cell_type": "markdown",
   "metadata": {},
   "source": [
    "#### Soru 35: Üçgen türünü belirler.\n"
   ]
  },
  {
   "cell_type": "code",
   "execution_count": null,
   "metadata": {},
   "outputs": [],
   "source": [
    "a, b, c = int(input()), int(input()), int(input())\n",
    "if a+b>c and a+c>b and b+c>a:\n",
    "    if a == b == c: print(\"Eşkenar\")\n",
    "    elif a == b or b == c or a == c: print(\"İkizkenar\")\n",
    "    else: print(\"Çeşitkenar\")\n",
    "else: print(\"Üçgen değil\")"
   ]
  },
  {
   "cell_type": "markdown",
   "metadata": {},
   "source": [
    "\n",
    "#### Soru 36: Yaşa göre bilet fiyatını belirler.\n"
   ]
  },
  {
   "cell_type": "code",
   "execution_count": null,
   "metadata": {},
   "outputs": [],
   "source": [
    "yas = int(input())\n",
    "if yas <= 5: print(\"Ücretsiz\")\n",
    "elif yas <= 18: print(\"10 TL\")\n",
    "elif yas <= 64: print(\"20 TL\")\n",
    "else: print(\"15 TL\")"
   ]
  },
  {
   "cell_type": "markdown",
   "metadata": {},
   "source": [
    "#### Soru 37: Hava durumu önerisi verir.\n"
   ]
  },
  {
   "cell_type": "code",
   "execution_count": null,
   "metadata": {},
   "outputs": [],
   "source": [
    "durum, sicaklik = input(), int(input())\n",
    "if durum == \"güneşli\" and sicaklik >= 25: print(\"Piknik yapabilirsiniz.\")\n",
    "elif durum == \"yağmurlu\": print(\"Şemsiye almayı unutmayın.\")\n",
    "elif durum == \"karlı\" and sicaklik < 0: print(\"Kayak yapmaya gidebilirsiniz.\")\n",
    "else: print(\"Evde kalabilirsiniz.\")"
   ]
  },
  {
   "cell_type": "markdown",
   "metadata": {},
   "source": [
    "#### Soru 38: Pozitif, negatif veya sıfır kontrolü yapar.\n"
   ]
  },
  {
   "cell_type": "code",
   "execution_count": null,
   "metadata": {},
   "outputs": [],
   "source": [
    "sayi = int(input())\n",
    "if sayi > 0:\n",
    "    print(\"Pozitif\")\n",
    "elif sayi < 0:\n",
    "    print(\"Negatif\")\n",
    "else:\n",
    "    print(\"Sıfır\")"
   ]
  },
  {
   "cell_type": "markdown",
   "metadata": {},
   "source": [
    "\n",
    "\n",
    "#### Soru 39: İki sayı karşılaştırması yapar.\n"
   ]
  },
  {
   "cell_type": "code",
   "execution_count": null,
   "metadata": {},
   "outputs": [],
   "source": [
    "a, b = int(input()), int(input())\n",
    "if a > b: print(\"Birinci sayı büyük\")\n",
    "elif b > a: print(\"İkinci sayı büyük\")\n",
    "else: print(\"Sayılar eşit\")"
   ]
  },
  {
   "cell_type": "markdown",
   "metadata": {},
   "source": [
    "\n",
    "#### Soru 40: Üyelik durumuna göre indirim hesaplar.\n"
   ]
  },
  {
   "cell_type": "code",
   "execution_count": null,
   "metadata": {},
   "outputs": [],
   "source": [
    "tutar, durum = float(input()), input()\n",
    "indirim = 0.1 if durum == \"üye\" else 0.05\n",
    "print(\"İndirimli tutar:\", tutar*(1-indirim))\n"
   ]
  }
 ],
 "metadata": {
  "kernelspec": {
   "display_name": "Python 3",
   "language": "python",
   "name": "python3"
  },
  "language_info": {
   "codemirror_mode": {
    "name": "ipython",
    "version": 3
   },
   "file_extension": ".py",
   "mimetype": "text/x-python",
   "name": "python",
   "nbconvert_exporter": "python",
   "pygments_lexer": "ipython3",
   "version": "3.12.5"
  }
 },
 "nbformat": 4,
 "nbformat_minor": 2
}
